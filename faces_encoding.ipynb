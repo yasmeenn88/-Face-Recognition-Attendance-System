{
 "cells": [
  {
   "cell_type": "code",
   "execution_count": 1,
   "id": "e0ecc19d-e678-4110-bafd-9017ef0e74bd",
   "metadata": {},
   "outputs": [
    {
     "name": "stdout",
     "output_type": "stream",
     "text": [
      "Face encodings saved successfully.\n"
     ]
    }
   ],
   "source": [
    "import os\n",
    "import cv2\n",
    "import face_recognition\n",
    "import pickle\n",
    "\n",
    "path = r\"D:\\Attendance\\persons\"\n",
    "images = []\n",
    "persons_names = []\n",
    "myList = os.listdir(path)\n",
    "\n",
    "for person in myList:\n",
    "    current_image = cv2.imread(f'{path}/{person}')\n",
    "    images.append(current_image)\n",
    "    persons_names.append(os.path.splitext(person)[0])\n",
    "\n",
    "def find_encodings(images):\n",
    "    encodelist = []\n",
    "    for img in images:\n",
    "        try:\n",
    "            img = cv2.cvtColor(img, cv2.COLOR_BGR2RGB)\n",
    "            encode = face_recognition.face_encodings(img)[0]\n",
    "            encodelist.append(encode)\n",
    "        except:\n",
    "            print(\"Encoding failed\")\n",
    "    return encodelist\n",
    "\n",
    "encodelistdone = find_encodings(images)\n",
    "\n",
    "with open(\"encodings.pkl\", \"wb\") as f:\n",
    "    pickle.dump((encodelistdone, persons_names), f)\n",
    "\n",
    "print(\"Face encodings saved successfully.\")\n"
   ]
  },
  {
   "cell_type": "code",
   "execution_count": null,
   "id": "c6d5c602-b904-4081-883e-7034f22939a6",
   "metadata": {},
   "outputs": [],
   "source": []
  }
 ],
 "metadata": {
  "kernelspec": {
   "display_name": "Python 3 (ipykernel)",
   "language": "python",
   "name": "python3"
  },
  "language_info": {
   "codemirror_mode": {
    "name": "ipython",
    "version": 3
   },
   "file_extension": ".py",
   "mimetype": "text/x-python",
   "name": "python",
   "nbconvert_exporter": "python",
   "pygments_lexer": "ipython3",
   "version": "3.12.4"
  }
 },
 "nbformat": 4,
 "nbformat_minor": 5
}
